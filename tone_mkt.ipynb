{
 "cells": [
  {
   "cell_type": "markdown",
   "metadata": {
    "colab_type": "text",
    "id": "view-in-github"
   },
   "source": [
    "<a href=\"https://colab.research.google.com/github/GarnetKangSB/MultiCampus_2020NLP_BOK_3/blob/master/tone_mkt.ipynb\" target=\"_parent\"><img src=\"https://colab.research.google.com/assets/colab-badge.svg\" alt=\"Open In Colab\"/></a>"
   ]
  },
  {
   "cell_type": "code",
   "execution_count": 1,
   "metadata": {
    "id": "Tb0yL63IlfQy"
   },
   "outputs": [],
   "source": [
    "import pandas as pd\n",
    "from sklearn.feature_extraction.text import CountVectorizer\n",
    "from sklearn.naive_bayes import MultinomialNB\n",
    "import numpy as np"
   ]
  },
  {
   "cell_type": "code",
   "execution_count": 2,
   "metadata": {
    "id": "_1YHbkvWlfQ2"
   },
   "outputs": [],
   "source": [
    "minutes=pd.read_csv(\"./minutes/minutes_ngram_label.csv\")\n",
    "news=pd.read_csv(\"./minutes/news_ngram_label.csv\")\n",
    "report=pd.read_csv(\"./minutes/reports_label.csv\")"
   ]
  },
  {
   "cell_type": "code",
   "execution_count": 3,
   "metadata": {
    "id": "IeCoaFbElfQ4"
   },
   "outputs": [],
   "source": [
    "def preprocess_ngram(string):\n",
    "    return \",\".join([x.split(\"'\")[1] for x in string.split(\",\")])"
   ]
  },
  {
   "cell_type": "code",
   "execution_count": 4,
   "metadata": {
    "id": "FOXMrw1ZlfQ6"
   },
   "outputs": [],
   "source": [
    "minutes[\"ngram\"] = minutes[\"ngram\"].str.replace(\"@\",\"\")\n",
    "news[\"ngram\"] = news[\"ngram\"].str.strip(\"[]\")\n",
    "news[\"ngram\"] = news[\"ngram\"].apply(preprocess_ngram)\n",
    "report[\"ngram\"] = report[\"ngram\"].str.strip(\"[]\")\n",
    "report = report.drop(649)\n",
    "report[\"ngram\"] = report[\"ngram\"].apply(preprocess_ngram)"
   ]
  },
  {
   "cell_type": "code",
   "execution_count": null,
   "metadata": {
    "id": "TfLFM5DwlfQ8",
    "outputId": "72312377-0122-4723-cf52-89b5915799e8"
   },
   "outputs": [
    {
     "data": {
      "text/html": [
       "<div>\n",
       "<style scoped>\n",
       "    .dataframe tbody tr th:only-of-type {\n",
       "        vertical-align: middle;\n",
       "    }\n",
       "\n",
       "    .dataframe tbody tr th {\n",
       "        vertical-align: top;\n",
       "    }\n",
       "\n",
       "    .dataframe thead th {\n",
       "        text-align: right;\n",
       "    }\n",
       "</style>\n",
       "<table border=\"1\" class=\"dataframe\">\n",
       "  <thead>\n",
       "    <tr style=\"text-align: right;\">\n",
       "      <th></th>\n",
       "      <th>Unnamed: 0</th>\n",
       "      <th>date</th>\n",
       "      <th>ngram</th>\n",
       "      <th>label</th>\n",
       "    </tr>\n",
       "  </thead>\n",
       "  <tbody>\n",
       "    <tr>\n",
       "      <th>0</th>\n",
       "      <td>0.0</td>\n",
       "      <td>2005-05-12</td>\n",
       "      <td>내외/NNG,금리갭/NNG,역전/NNG,자금/NNG,해외/NNG,유출/NNG,대규모...</td>\n",
       "      <td>1</td>\n",
       "    </tr>\n",
       "    <tr>\n",
       "      <th>2</th>\n",
       "      <td>2.0</td>\n",
       "      <td>2005-07-07</td>\n",
       "      <td>들/VV,국제/NNG,유가/NNG,크/VA,오르/VV,원화/NNG,엔/NNG,화간/...</td>\n",
       "      <td>0</td>\n",
       "    </tr>\n",
       "    <tr>\n",
       "      <th>3</th>\n",
       "      <td>3.0</td>\n",
       "      <td>2005-08-11</td>\n",
       "      <td>위안/NNG,절상/NNG,원화/NNG,절상/NNG,가장/MAG,크/VA,추가/NNG...</td>\n",
       "      <td>1</td>\n",
       "    </tr>\n",
       "    <tr>\n",
       "      <th>5</th>\n",
       "      <td>5.0</td>\n",
       "      <td>2005-10-11</td>\n",
       "      <td>금리갭/NNG,확대/NNG,되/XSV,가운데/NNG,남/VV,fed/NNG,금리/N...</td>\n",
       "      <td>1</td>\n",
       "    </tr>\n",
       "    <tr>\n",
       "      <th>7</th>\n",
       "      <td>7.0</td>\n",
       "      <td>2005-12-08</td>\n",
       "      <td>들/VV,달러/NNG,엔/NNG,유로/NNG,대해/VV,상당히/MAG,강세/NNG,...</td>\n",
       "      <td>1</td>\n",
       "    </tr>\n",
       "    <tr>\n",
       "      <th>...</th>\n",
       "      <td>...</td>\n",
       "      <td>...</td>\n",
       "      <td>...</td>\n",
       "      <td>...</td>\n",
       "    </tr>\n",
       "    <tr>\n",
       "      <th>3555</th>\n",
       "      <td>NaN</td>\n",
       "      <td>2020-01-06</td>\n",
       "      <td>fed/NNG,다시/MAG,긴축/NNG,길/NNG,금리/NNG,동결/NNG,fed/...</td>\n",
       "      <td>1</td>\n",
       "    </tr>\n",
       "    <tr>\n",
       "      <th>3567</th>\n",
       "      <td>NaN</td>\n",
       "      <td>2020-01-28</td>\n",
       "      <td>크레딧/NNG,투자전략/NNG,신용/NNG,분석/NNG,민정/NNG,회사채/NNG,...</td>\n",
       "      <td>0</td>\n",
       "    </tr>\n",
       "    <tr>\n",
       "      <th>3568</th>\n",
       "      <td>NaN</td>\n",
       "      <td>2020-01-28</td>\n",
       "      <td>크레딧/NNG,이슈/NNG,신용스프레드/NNG,동향/NNG,전망/NNG,발행시장/N...</td>\n",
       "      <td>0</td>\n",
       "    </tr>\n",
       "    <tr>\n",
       "      <th>3569</th>\n",
       "      <td>NaN</td>\n",
       "      <td>2020-01-28</td>\n",
       "      <td>고지/NNG,사항/NNG,조사/NNG,분석/NNG,자료/NNG,신뢰/NNG,하/VV...</td>\n",
       "      <td>0</td>\n",
       "    </tr>\n",
       "    <tr>\n",
       "      <th>3570</th>\n",
       "      <td>NaN</td>\n",
       "      <td>2020-01-29</td>\n",
       "      <td>밤중/NNG,흔들/VV,건너/VV,의현/NNG,보/VV,조사/NNG,자료/NNG,고...</td>\n",
       "      <td>0</td>\n",
       "    </tr>\n",
       "  </tbody>\n",
       "</table>\n",
       "<p>99948 rows × 4 columns</p>\n",
       "</div>"
      ],
      "text/plain": [
       "      Unnamed: 0        date  \\\n",
       "0            0.0  2005-05-12   \n",
       "2            2.0  2005-07-07   \n",
       "3            3.0  2005-08-11   \n",
       "5            5.0  2005-10-11   \n",
       "7            7.0  2005-12-08   \n",
       "...          ...         ...   \n",
       "3555         NaN  2020-01-06   \n",
       "3567         NaN  2020-01-28   \n",
       "3568         NaN  2020-01-28   \n",
       "3569         NaN  2020-01-28   \n",
       "3570         NaN  2020-01-29   \n",
       "\n",
       "                                                  ngram  label  \n",
       "0     내외/NNG,금리갭/NNG,역전/NNG,자금/NNG,해외/NNG,유출/NNG,대규모...      1  \n",
       "2     들/VV,국제/NNG,유가/NNG,크/VA,오르/VV,원화/NNG,엔/NNG,화간/...      0  \n",
       "3     위안/NNG,절상/NNG,원화/NNG,절상/NNG,가장/MAG,크/VA,추가/NNG...      1  \n",
       "5     금리갭/NNG,확대/NNG,되/XSV,가운데/NNG,남/VV,fed/NNG,금리/N...      1  \n",
       "7     들/VV,달러/NNG,엔/NNG,유로/NNG,대해/VV,상당히/MAG,강세/NNG,...      1  \n",
       "...                                                 ...    ...  \n",
       "3555  fed/NNG,다시/MAG,긴축/NNG,길/NNG,금리/NNG,동결/NNG,fed/...      1  \n",
       "3567  크레딧/NNG,투자전략/NNG,신용/NNG,분석/NNG,민정/NNG,회사채/NNG,...      0  \n",
       "3568  크레딧/NNG,이슈/NNG,신용스프레드/NNG,동향/NNG,전망/NNG,발행시장/N...      0  \n",
       "3569  고지/NNG,사항/NNG,조사/NNG,분석/NNG,자료/NNG,신뢰/NNG,하/VV...      0  \n",
       "3570  밤중/NNG,흔들/VV,건너/VV,의현/NNG,보/VV,조사/NNG,자료/NNG,고...      0  \n",
       "\n",
       "[99948 rows x 4 columns]"
      ]
     },
     "execution_count": 153,
     "metadata": {
      "tags": []
     },
     "output_type": "execute_result"
    }
   ],
   "source": [
    "concate_data = pd.concat([minutes,news,report])\n",
    "concate_data = concate_data.loc[(~(concate_data[\"label\"]==\"no_change\"))&(concate_data[\"ngram\"].notnull())]\n",
    "concate_data[\"label\"] = concate_data[\"label\"].apply(lambda x: 1 if x==\"hawkish\" else 0)\n",
    "concate_data"
   ]
  },
  {
   "cell_type": "code",
   "execution_count": 5,
   "metadata": {
    "id": "vahWP7UClfQ_"
   },
   "outputs": [],
   "source": [
    "from sklearn.model_selection import train_test_split"
   ]
  },
  {
   "cell_type": "code",
   "execution_count": 6,
   "metadata": {
    "id": "YKmkr5tPlfRB"
   },
   "outputs": [],
   "source": [
    "def split(string):\n",
    "    return string.split(\",\")"
   ]
  },
  {
   "cell_type": "code",
   "execution_count": 7,
   "metadata": {
    "id": "XTL4v0FxlfRD"
   },
   "outputs": [],
   "source": [
    "from collections import defaultdict"
   ]
  },
  {
   "cell_type": "code",
   "execution_count": 8,
   "metadata": {
    "id": "8hcuPYnPlfRF",
    "outputId": "3787fa91-3958-4a9e-fb7e-ab74b442db89"
   },
   "outputs": [],
   "source": [
    "polarity_score_ls=defaultdict(list)\n",
    "for i in range(30):\n",
    "    X_train,_,y_train,_= train_test_split(concate_data[\"ngram\"],concate_data[\"label\"],test_size=0.1,stratify=concate_data[\"label\"],shuffle=True)\n",
    "    \n",
    "    vectorizer=CountVectorizer(tokenizer=split,lowercase=False)\n",
    "    ngram_vec=vectorizer.fit_transform(X_train)\n",
    "    ngram_dict=vectorizer.vocabulary_\n",
    "    \n",
    "    model=MultinomialNB()\n",
    "    model.fit(ngram_vec,y_train)\n",
    "    likelyhood_prop=np.exp(model.feature_log_prob_)\n",
    "    \n",
    "    for ngram in ngram_dict.keys():\n",
    "        polarity_score_ls[ngram].append((likelyhood_prop[1]/likelyhood_prop[0])[ngram_dict[ngram]])\n"
   ]
  },
  {
   "cell_type": "code",
   "execution_count": null,
   "metadata": {
    "id": "bbgF7bGUlfRI",
    "outputId": "6e3ba479-be31-4688-fec8-c61f550b2f04"
   },
   "outputs": [
    {
     "data": {
      "text/html": [
       "<div>\n",
       "<style scoped>\n",
       "    .dataframe tbody tr th:only-of-type {\n",
       "        vertical-align: middle;\n",
       "    }\n",
       "\n",
       "    .dataframe tbody tr th {\n",
       "        vertical-align: top;\n",
       "    }\n",
       "\n",
       "    .dataframe thead th {\n",
       "        text-align: right;\n",
       "    }\n",
       "</style>\n",
       "<table border=\"1\" class=\"dataframe\">\n",
       "  <thead>\n",
       "    <tr style=\"text-align: right;\">\n",
       "      <th></th>\n",
       "      <th>ngram</th>\n",
       "      <th>polarity_score</th>\n",
       "    </tr>\n",
       "  </thead>\n",
       "  <tbody>\n",
       "    <tr>\n",
       "      <th>0</th>\n",
       "      <td>뉴욕/NNG</td>\n",
       "      <td>1.156101</td>\n",
       "    </tr>\n",
       "    <tr>\n",
       "      <th>1</th>\n",
       "      <td>금융시장/NNG</td>\n",
       "      <td>0.823847</td>\n",
       "    </tr>\n",
       "    <tr>\n",
       "      <th>2</th>\n",
       "      <td>금리/NNG</td>\n",
       "      <td>1.016991</td>\n",
       "    </tr>\n",
       "    <tr>\n",
       "      <th>3</th>\n",
       "      <td>인하/NNG</td>\n",
       "      <td>0.370627</td>\n",
       "    </tr>\n",
       "    <tr>\n",
       "      <th>4</th>\n",
       "      <td>기대/NNG</td>\n",
       "      <td>0.883149</td>\n",
       "    </tr>\n",
       "  </tbody>\n",
       "</table>\n",
       "</div>"
      ],
      "text/plain": [
       "      ngram  polarity_score\n",
       "0    뉴욕/NNG        1.156101\n",
       "1  금융시장/NNG        0.823847\n",
       "2    금리/NNG        1.016991\n",
       "3    인하/NNG        0.370627\n",
       "4    기대/NNG        0.883149"
      ]
     },
     "execution_count": 201,
     "metadata": {
      "tags": []
     },
     "output_type": "execute_result"
    }
   ],
   "source": [
    "ngram_score=pd.DataFrame({\"ngram\":list(polarity_score_ls.keys()),\"polarity_score\":[sum(x)/len(x) for x in polarity_score_ls.values()]})\n",
    "ngram_score.head(5)"
   ]
  },
  {
   "cell_type": "code",
   "execution_count": null,
   "metadata": {
    "id": "REUoKEY9lfRK"
   },
   "outputs": [],
   "source": [
    "hawkish_ngram_ls=ngram_score.loc[ngram_score[\"polarity_score\"]>1.3,\"ngram\"].tolist()\n",
    "dovish_ngram_ls=ngram_score.loc[ngram_score[\"polarity_score\"]<(1/1.3),\"ngram\"].tolist()"
   ]
  },
  {
   "cell_type": "code",
   "execution_count": null,
   "metadata": {
    "id": "iu_knDJilfRM"
   },
   "outputs": [],
   "source": [
    "sentence2=pd.read_csv(\"./minutes/sentences_ngram_sec2.csv\")\n",
    "sentence3=pd.read_csv(\"./minutes/sentences_ngram_sec3.csv\")"
   ]
  },
  {
   "cell_type": "code",
   "execution_count": null,
   "metadata": {
    "id": "Zvyl0FUvlfRO",
    "outputId": "b3e1edd9-b47b-405e-8c83-3cbddfc26907",
    "scrolled": true
   },
   "outputs": [
    {
     "data": {
      "text/html": [
       "<div>\n",
       "<style scoped>\n",
       "    .dataframe tbody tr th:only-of-type {\n",
       "        vertical-align: middle;\n",
       "    }\n",
       "\n",
       "    .dataframe tbody tr th {\n",
       "        vertical-align: top;\n",
       "    }\n",
       "\n",
       "    .dataframe thead th {\n",
       "        text-align: right;\n",
       "    }\n",
       "</style>\n",
       "<table border=\"1\" class=\"dataframe\">\n",
       "  <thead>\n",
       "    <tr style=\"text-align: right;\">\n",
       "      <th></th>\n",
       "      <th>index</th>\n",
       "      <th>Unnamed: 0</th>\n",
       "      <th>Unnamed: 1</th>\n",
       "      <th>sentences</th>\n",
       "      <th>date</th>\n",
       "      <th>ngram</th>\n",
       "    </tr>\n",
       "  </thead>\n",
       "  <tbody>\n",
       "    <tr>\n",
       "      <th>0</th>\n",
       "      <td>0</td>\n",
       "      <td>0</td>\n",
       "      <td>0</td>\n",
       "      <td>일부 위원은 내외금리차 역전에 따라 자금의 해외유출이 대규모로 발생될 가능성을 상당...</td>\n",
       "      <td>20050512</td>\n",
       "      <td>내외/NNG,금리갭/NNG,역전/NNG,자금/NNG,해외/NNG,유출/NNG,대규모...</td>\n",
       "    </tr>\n",
       "    <tr>\n",
       "      <th>1</th>\n",
       "      <td>6</td>\n",
       "      <td>0</td>\n",
       "      <td>6</td>\n",
       "      <td>또 다른 일부 위원은 현재 주택담보대출의 대부분이 변동금리부 조건으로 이루어지고 있...</td>\n",
       "      <td>20050512</td>\n",
       "      <td>또/MAG,주택담보대출/NNG,변동금리부/NNG,조건/NNG,이루/VV,점/NNG,...</td>\n",
       "    </tr>\n",
       "    <tr>\n",
       "      <th>2</th>\n",
       "      <td>0</td>\n",
       "      <td>0</td>\n",
       "      <td>0</td>\n",
       "      <td>일부 위원은 4월중 연기금의 주식매매 패턴이 주식시장의 안정과 역행하는 방향으로 작...</td>\n",
       "      <td>20050512</td>\n",
       "      <td>중/NNG,연기금/NNG,주식/NNG,매매패턴/NNG,주식시장/NNG,안정/NNG,...</td>\n",
       "    </tr>\n",
       "    <tr>\n",
       "      <th>3</th>\n",
       "      <td>3</td>\n",
       "      <td>0</td>\n",
       "      <td>3</td>\n",
       "      <td>다른 일부 위원은 최근 은행들의 주택담보대출 증대 노력은 과거와 같은 신규대출 확대...</td>\n",
       "      <td>20050512</td>\n",
       "      <td>은행/NNG,주택담보대출/NNG,증대/NNG,노력/NNG,같/VA,신규/NNG,대출...</td>\n",
       "    </tr>\n",
       "    <tr>\n",
       "      <th>4</th>\n",
       "      <td>1</td>\n",
       "      <td>0</td>\n",
       "      <td>1</td>\n",
       "      <td>동 위원은 최근 은행들이 마땅한 자금 운용대상 확보가 쉽지 않음에 따라 주택담보대출...</td>\n",
       "      <td>20050512</td>\n",
       "      <td>은행/NNG,마땅/NNG,자금/NNG,운용/NNG,대상/NNG,확보/NNG,쉽/VA...</td>\n",
       "    </tr>\n",
       "  </tbody>\n",
       "</table>\n",
       "</div>"
      ],
      "text/plain": [
       "   index  Unnamed: 0  Unnamed: 1  \\\n",
       "0      0           0           0   \n",
       "1      6           0           6   \n",
       "2      0           0           0   \n",
       "3      3           0           3   \n",
       "4      1           0           1   \n",
       "\n",
       "                                           sentences      date  \\\n",
       "0  일부 위원은 내외금리차 역전에 따라 자금의 해외유출이 대규모로 발생될 가능성을 상당...  20050512   \n",
       "1  또 다른 일부 위원은 현재 주택담보대출의 대부분이 변동금리부 조건으로 이루어지고 있...  20050512   \n",
       "2  일부 위원은 4월중 연기금의 주식매매 패턴이 주식시장의 안정과 역행하는 방향으로 작...  20050512   \n",
       "3  다른 일부 위원은 최근 은행들의 주택담보대출 증대 노력은 과거와 같은 신규대출 확대...  20050512   \n",
       "4  동 위원은 최근 은행들이 마땅한 자금 운용대상 확보가 쉽지 않음에 따라 주택담보대출...  20050512   \n",
       "\n",
       "                                               ngram  \n",
       "0  내외/NNG,금리갭/NNG,역전/NNG,자금/NNG,해외/NNG,유출/NNG,대규모...  \n",
       "1  또/MAG,주택담보대출/NNG,변동금리부/NNG,조건/NNG,이루/VV,점/NNG,...  \n",
       "2  중/NNG,연기금/NNG,주식/NNG,매매패턴/NNG,주식시장/NNG,안정/NNG,...  \n",
       "3  은행/NNG,주택담보대출/NNG,증대/NNG,노력/NNG,같/VA,신규/NNG,대출...  \n",
       "4  은행/NNG,마땅/NNG,자금/NNG,운용/NNG,대상/NNG,확보/NNG,쉽/VA...  "
      ]
     },
     "execution_count": 163,
     "metadata": {
      "tags": []
     },
     "output_type": "execute_result"
    }
   ],
   "source": [
    "sentence_data=pd.concat([sentence2,sentence3]).sort_values(by=\"date\")\n",
    "sentence_data[\"ngram\"]=sentence_data[\"ngram\"].str.strip(\"[]\")\n",
    "sentence_data[\"ngram\"]=sentence_data[\"ngram\"].apply(preprocess_ngram)\n",
    "sentence_data = sentence_data.reset_index()\n",
    "sentence_data=sentence_data[[\"sentences\",\"date\",\"ngram\"]]\n",
    "sentence_data.head(5)"
   ]
  },
  {
   "cell_type": "code",
   "execution_count": null,
   "metadata": {
    "id": "JlustLe-lfRQ"
   },
   "outputs": [],
   "source": [
    "def sen_tone(ls):\n",
    "    return len([x for x in ls if x in hawkish_ngram_ls])-len([x for x in ls if x in dovish_ngram_ls])"
   ]
  },
  {
   "cell_type": "code",
   "execution_count": null,
   "metadata": {
    "id": "fGYaBg4qlfRS",
    "scrolled": true
   },
   "outputs": [],
   "source": [
    "sentence_data[\"sen_tone\"]=sentence_data[\"ngram\"].str.split(\",\").apply(sen_tone)"
   ]
  },
  {
   "cell_type": "code",
   "execution_count": null,
   "metadata": {
    "id": "UEI8LHfZlfRU"
   },
   "outputs": [],
   "source": [
    "hawkish_num=sentence_data.loc[sentence_data[\"sen_tone\"]>0].pivot_table(index=\"date\",values=[\"sentences\"],aggfunc=\"count\")\n",
    "dovish_num=sentence_data.loc[sentence_data[\"sen_tone\"]<0].pivot_table(index=\"date\",values=[\"sentences\"],aggfunc=\"count\")"
   ]
  },
  {
   "cell_type": "code",
   "execution_count": null,
   "metadata": {
    "id": "iTjmMSDklfRW",
    "outputId": "f3cfe1a0-4a7d-49ea-9650-a0236349568c"
   },
   "outputs": [
    {
     "data": {
      "text/html": [
       "<div>\n",
       "<style scoped>\n",
       "    .dataframe tbody tr th:only-of-type {\n",
       "        vertical-align: middle;\n",
       "    }\n",
       "\n",
       "    .dataframe tbody tr th {\n",
       "        vertical-align: top;\n",
       "    }\n",
       "\n",
       "    .dataframe thead th {\n",
       "        text-align: right;\n",
       "    }\n",
       "</style>\n",
       "<table border=\"1\" class=\"dataframe\">\n",
       "  <thead>\n",
       "    <tr style=\"text-align: right;\">\n",
       "      <th></th>\n",
       "      <th>hawk_num</th>\n",
       "      <th>dov_num</th>\n",
       "    </tr>\n",
       "    <tr>\n",
       "      <th>date</th>\n",
       "      <th></th>\n",
       "      <th></th>\n",
       "    </tr>\n",
       "  </thead>\n",
       "  <tbody>\n",
       "    <tr>\n",
       "      <th>20050512</th>\n",
       "      <td>4.0</td>\n",
       "      <td>7.0</td>\n",
       "    </tr>\n",
       "    <tr>\n",
       "      <th>20050609</th>\n",
       "      <td>5.0</td>\n",
       "      <td>4.0</td>\n",
       "    </tr>\n",
       "    <tr>\n",
       "      <th>20050707</th>\n",
       "      <td>4.0</td>\n",
       "      <td>3.0</td>\n",
       "    </tr>\n",
       "    <tr>\n",
       "      <th>20050811</th>\n",
       "      <td>13.0</td>\n",
       "      <td>3.0</td>\n",
       "    </tr>\n",
       "    <tr>\n",
       "      <th>20050908</th>\n",
       "      <td>10.0</td>\n",
       "      <td>5.0</td>\n",
       "    </tr>\n",
       "    <tr>\n",
       "      <th>...</th>\n",
       "      <td>...</td>\n",
       "      <td>...</td>\n",
       "    </tr>\n",
       "    <tr>\n",
       "      <th>20190228</th>\n",
       "      <td>9.0</td>\n",
       "      <td>27.0</td>\n",
       "    </tr>\n",
       "    <tr>\n",
       "      <th>20190418</th>\n",
       "      <td>14.0</td>\n",
       "      <td>12.0</td>\n",
       "    </tr>\n",
       "    <tr>\n",
       "      <th>20190531</th>\n",
       "      <td>13.0</td>\n",
       "      <td>13.0</td>\n",
       "    </tr>\n",
       "    <tr>\n",
       "      <th>20190718</th>\n",
       "      <td>14.0</td>\n",
       "      <td>33.0</td>\n",
       "    </tr>\n",
       "    <tr>\n",
       "      <th>20190830</th>\n",
       "      <td>10.0</td>\n",
       "      <td>34.0</td>\n",
       "    </tr>\n",
       "  </tbody>\n",
       "</table>\n",
       "<p>161 rows × 2 columns</p>\n",
       "</div>"
      ],
      "text/plain": [
       "          hawk_num  dov_num\n",
       "date                       \n",
       "20050512       4.0      7.0\n",
       "20050609       5.0      4.0\n",
       "20050707       4.0      3.0\n",
       "20050811      13.0      3.0\n",
       "20050908      10.0      5.0\n",
       "...            ...      ...\n",
       "20190228       9.0     27.0\n",
       "20190418      14.0     12.0\n",
       "20190531      13.0     13.0\n",
       "20190718      14.0     33.0\n",
       "20190830      10.0     34.0\n",
       "\n",
       "[161 rows x 2 columns]"
      ]
     },
     "execution_count": 235,
     "metadata": {
      "tags": []
     },
     "output_type": "execute_result"
    }
   ],
   "source": [
    "haw_dov_sen_tone=hawkish_num.merge(dovish_num,how=\"outer\",left_index=True,right_index=True).fillna(0)\n",
    "haw_dov_sen_tone.columns=[\"hawk_num\",\"dov_num\"]\n",
    "haw_dov_sen_tone"
   ]
  },
  {
   "cell_type": "code",
   "execution_count": null,
   "metadata": {
    "id": "qEgBVvkrlfRY",
    "outputId": "97070ebb-fd27-4274-c747-c03f752dce39"
   },
   "outputs": [
    {
     "data": {
      "text/plain": [
       "date\n",
       "20050512   -0.272727\n",
       "20050609    0.111111\n",
       "20050707    0.142857\n",
       "20050811    0.625000\n",
       "20050908    0.333333\n",
       "              ...   \n",
       "20190228   -0.500000\n",
       "20190418    0.076923\n",
       "20190531    0.000000\n",
       "20190718   -0.404255\n",
       "20190830   -0.545455\n",
       "Length: 161, dtype: float64"
      ]
     },
     "execution_count": 236,
     "metadata": {
      "tags": []
     },
     "output_type": "execute_result"
    }
   ],
   "source": [
    "tone_doc=(haw_dov_sen_tone[\"hawk_num\"]-haw_dov_sen_tone[\"dov_num\"])/(haw_dov_sen_tone[\"hawk_num\"]+haw_dov_sen_tone[\"dov_num\"])\n",
    "tone_doc"
   ]
  },
  {
   "cell_type": "code",
   "execution_count": null,
   "metadata": {
    "id": "9u28rNtNlfRa"
   },
   "outputs": [],
   "source": [
    "tone_doc.to_csv(\"./minutes/tone_doc.csv\")"
   ]
  },
  {
   "cell_type": "code",
   "execution_count": null,
   "metadata": {
    "id": "yewR1i5PlfRc"
   },
   "outputs": [],
   "source": []
  }
 ],
 "metadata": {
  "colab": {
   "include_colab_link": true,
   "name": "tone_mkt.ipynb",
   "provenance": []
  },
  "kernelspec": {
   "display_name": "Python 3",
   "language": "python",
   "name": "python3"
  },
  "language_info": {
   "codemirror_mode": {
    "name": "ipython",
    "version": 3
   },
   "file_extension": ".py",
   "mimetype": "text/x-python",
   "name": "python",
   "nbconvert_exporter": "python",
   "pygments_lexer": "ipython3",
   "version": "3.7.6"
  }
 },
 "nbformat": 4,
 "nbformat_minor": 1
}
