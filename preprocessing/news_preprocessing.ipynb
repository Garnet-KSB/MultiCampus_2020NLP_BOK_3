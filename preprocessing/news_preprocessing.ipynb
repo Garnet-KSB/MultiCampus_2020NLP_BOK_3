{
 "cells": [
  {
   "cell_type": "markdown",
   "metadata": {
    "colab_type": "text",
    "id": "view-in-github"
   },
   "source": [
    "<a href=\"https://colab.research.google.com/github/GarnetKangSB/MultiCampus_2020NLP_BOK_3/blob/master/news_preprocessing.ipynb\" target=\"_parent\"><img src=\"https://colab.research.google.com/assets/colab-badge.svg\" alt=\"Open In Colab\"/></a>"
   ]
  },
  {
   "cell_type": "code",
   "execution_count": 1,
   "metadata": {},
   "outputs": [],
   "source": [
    "import warnings\n",
    "\n",
    "warnings.filterwarnings(action='ignore') "
   ]
  },
  {
   "cell_type": "code",
   "execution_count": 2,
   "metadata": {
    "id": "KU9FWxMZFs7R"
   },
   "outputs": [],
   "source": [
    "import pandas as pd\n",
    "news=pd.read_csv(\"news.csv\")"
   ]
  },
  {
   "cell_type": "code",
   "execution_count": 3,
   "metadata": {
    "id": "9KQAAO3gFs7g"
   },
   "outputs": [],
   "source": [
    "import pandas as pd\n",
    "from ekonlpy.sentiment import MPCK\n",
    "\n",
    "def text2ngram(text) :\n",
    "    mpck = MPCK()\n",
    "    tokens = mpck.tokenize(text)\n",
    "    ngrams = mpck.ngramize(tokens)\n",
    "                \n",
    "    return tokens+ ngrams"
   ]
  },
  {
   "cell_type": "code",
   "execution_count": 4,
   "metadata": {
    "id": "_4ilW2bZFs7k"
   },
   "outputs": [],
   "source": [
    "news[\"date\"] = pd.to_datetime(news[\"date\"])\n",
    "news = news.loc[news[\"date\"].dt.year <= 2017]\n",
    "news[\"ngram\"]=news[\"content\"].apply(text2ngram)"
   ]
  },
  {
   "cell_type": "code",
   "execution_count": 5,
   "metadata": {
    "id": "S11V9LaWFs71"
   },
   "outputs": [],
   "source": [
    "news.to_csv(\"./news_preprocessed.csv\")"
   ]
  },
  {
   "cell_type": "code",
   "execution_count": null,
   "metadata": {
    "id": "JhgrjuziFs78"
   },
   "outputs": [],
   "source": []
  }
 ],
 "metadata": {
  "colab": {
   "include_colab_link": true,
   "name": "news_preprocessing.ipynb",
   "provenance": []
  },
  "kernelspec": {
   "display_name": "Python 3",
   "language": "python",
   "name": "python3"
  },
  "language_info": {
   "codemirror_mode": {
    "name": "ipython",
    "version": 3
   },
   "file_extension": ".py",
   "mimetype": "text/x-python",
   "name": "python",
   "nbconvert_exporter": "python",
   "pygments_lexer": "ipython3",
   "version": "3.7.6"
  }
 },
 "nbformat": 4,
 "nbformat_minor": 1
}
